{
  "nbformat": 4,
  "nbformat_minor": 0,
  "metadata": {
    "colab": {
      "provenance": [],
      "authorship_tag": "ABX9TyO5JGb1QXzfUA7WnCgtwJw/",
      "include_colab_link": true
    },
    "kernelspec": {
      "name": "python3",
      "display_name": "Python 3"
    },
    "language_info": {
      "name": "python"
    }
  },
  "cells": [
    {
      "cell_type": "markdown",
      "metadata": {
        "id": "view-in-github",
        "colab_type": "text"
      },
      "source": [
        "<a href=\"https://colab.research.google.com/github/arunachalamev/CheatSheet/blob/master/TensorFundamentals.ipynb\" target=\"_parent\"><img src=\"https://colab.research.google.com/assets/colab-badge.svg\" alt=\"Open In Colab\"/></a>"
      ]
    },
    {
      "cell_type": "code",
      "execution_count": 1,
      "metadata": {
        "id": "uIVmvbuVoAUq"
      },
      "outputs": [],
      "source": [
        "import torch"
      ]
    },
    {
      "cell_type": "code",
      "source": [
        "# print (torch.__version__)\n",
        "a = torch.tensor(3)\n",
        "b = torch.tensor([3.])\n",
        "c = torch.tensor([1,2,3])\n",
        "d = torch.tensor([[1,2,3],[3,4,5]])\n",
        "e = torch.rand(size=(10,10,3,5,4))\n",
        "g = torch.ones(size=(2,1,4), dtype=torch.int8, device = None, requires_grad=False)\n",
        "\n",
        "a\n",
        "print (a.ndim, a.shape)\n",
        "print (b.ndim, b.shape)\n",
        "print (c.ndim,c.shape)\n",
        "print (d.ndim,d.shape)\n",
        "print (e.ndim,e.shape)\n",
        "print (g.ndim, g.shape)\n",
        "g+10"
      ],
      "metadata": {
        "colab": {
          "base_uri": "https://localhost:8080/"
        },
        "id": "r0iKRjEuoJWX",
        "outputId": "fd203e0e-9976-4567-f21c-fa4881a4a43b"
      },
      "execution_count": 32,
      "outputs": [
        {
          "output_type": "stream",
          "name": "stdout",
          "text": [
            "0 torch.Size([])\n",
            "1 torch.Size([1])\n",
            "1 torch.Size([3])\n",
            "2 torch.Size([2, 3])\n",
            "5 torch.Size([10, 10, 3, 5, 4])\n",
            "3 torch.Size([2, 1, 4])\n"
          ]
        },
        {
          "output_type": "execute_result",
          "data": {
            "text/plain": [
              "tensor([[[11, 11, 11, 11]],\n",
              "\n",
              "        [[11, 11, 11, 11]]], dtype=torch.int8)"
            ]
          },
          "metadata": {},
          "execution_count": 32
        }
      ]
    }
  ]
}